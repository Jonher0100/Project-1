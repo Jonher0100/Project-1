{
  "nbformat": 4,
  "nbformat_minor": 0,
  "metadata": {
    "colab": {
      "provenance": [],
      "authorship_tag": "ABX9TyME5bihvVvjM6r/Vsh/MV5+",
      "include_colab_link": true
    },
    "kernelspec": {
      "name": "python3",
      "display_name": "Python 3"
    },
    "language_info": {
      "name": "python"
    }
  },
  "cells": [
    {
      "cell_type": "markdown",
      "metadata": {
        "id": "view-in-github",
        "colab_type": "text"
      },
      "source": [
        "<a href=\"https://colab.research.google.com/github/Jonher0100/Project-1/blob/main/Jonathan_Hernandez_Project.ipynb\" target=\"_parent\"><img src=\"https://colab.research.google.com/assets/colab-badge.svg\" alt=\"Open In Colab\"/></a>"
      ]
    },
    {
      "cell_type": "markdown",
      "source": [
        "#Project 1 - Part 1\n",
        "\n",
        "Jonathan Hernandez\n",
        "\n",
        "\n",
        "\n"
      ],
      "metadata": {
        "id": "5V_yXcXnPDO_"
      }
    },
    {
      "cell_type": "code",
      "source": [],
      "metadata": {
        "id": "F4SmnGxZPp3H"
      },
      "execution_count": null,
      "outputs": []
    },
    {
      "cell_type": "markdown",
      "source": [
        "# *Loading* Data "
      ],
      "metadata": {
        "id": "JcnWKuRxPrNT"
      }
    },
    {
      "cell_type": "code",
      "source": [],
      "metadata": {
        "id": "sOxNT5NxPz2W"
      },
      "execution_count": null,
      "outputs": []
    },
    {
      "cell_type": "markdown",
      "source": [
        "# Data Cleaning"
      ],
      "metadata": {
        "id": "PfuHSqK0P7GH"
      }
    },
    {
      "cell_type": "code",
      "source": [],
      "metadata": {
        "id": "63nECXx6QB_O"
      },
      "execution_count": null,
      "outputs": []
    },
    {
      "cell_type": "markdown",
      "source": [
        "# Exploratory Visuals"
      ],
      "metadata": {
        "id": "L-_X9JvAQDQW"
      }
    },
    {
      "cell_type": "code",
      "source": [],
      "metadata": {
        "id": "kyIV9CJrQL1X"
      },
      "execution_count": null,
      "outputs": []
    },
    {
      "cell_type": "markdown",
      "source": [
        "# Explanatory Visuals"
      ],
      "metadata": {
        "id": "tH5EOod4QMPi"
      }
    },
    {
      "cell_type": "code",
      "source": [],
      "metadata": {
        "id": "coa0cV0HQSxA"
      },
      "execution_count": null,
      "outputs": []
    }
  ]
}